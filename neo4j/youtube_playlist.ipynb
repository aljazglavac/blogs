{
 "cells": [
  {
   "cell_type": "code",
   "execution_count": 14,
   "id": "deca051a-81ea-4245-badb-8fb4f97b5e03",
   "metadata": {},
   "outputs": [],
   "source": [
    "import os\n",
    "\n",
    "from pytube import Playlist\n",
    "from langchain.text_splitter import CharacterTextSplitter\n",
    "from langchain.embeddings.openai import OpenAIEmbeddings\n",
    "from langchain.vectorstores import Neo4jVector\n",
    "from langchain.document_loaders import YoutubeLoader\n",
    "\n",
    "from langchain.chat_models import ChatOpenAI\n",
    "from langchain.memory import ChatMessageHistory, ConversationBufferMemory\n",
    "from langchain.chains import ConversationalRetrievalChain"
   ]
  },
  {
   "cell_type": "code",
   "execution_count": 15,
   "id": "64ad79d5-471d-4b2d-94dd-16bae0323ffe",
   "metadata": {},
   "outputs": [],
   "source": [
    "# playlist_url = \"https://www.youtube.com/watch?v=hCMv4UJo--4&list=PL9Hl4pk2FsvWPcphew_GbLjCWvMpmh4mV&ab_channel=Neo4j\"\n",
    "# playlist = Playlist(playlist_url)\n",
    "# video_ids = [_v.split('v=')[-1] for _v in playlist.video_urls]\n",
    "# Process only one video\n",
    "video_ids = ['qYaXwV9ZNr4']"
   ]
  },
  {
   "cell_type": "code",
   "execution_count": 16,
   "id": "4b6f2bcb-9c1f-42ee-b6e6-a46d7f65bfad",
   "metadata": {},
   "outputs": [],
   "source": [
    "# Init text splitter with chunk size 512 (https://www.pinecone.io/learn/chunking-strategies/)\n",
    "text_splitter = CharacterTextSplitter.from_tiktoken_encoder(chunk_size=1000, chunk_overlap=20)"
   ]
  },
  {
   "cell_type": "code",
   "execution_count": 17,
   "id": "ec7ebe4f-fbce-451b-ac7a-515e566f8dbc",
   "metadata": {},
   "outputs": [],
   "source": [
    "from env import setup_env\n",
    "setup_env()"
   ]
  },
  {
   "cell_type": "code",
   "execution_count": 18,
   "id": "6a0f35ac-3381-4634-a93c-1e6e151cab98",
   "metadata": {},
   "outputs": [],
   "source": [
    "# Read their captions and process it into documents with above defined text splitter\n",
    "documents = []\n",
    "for video_id in video_ids:\n",
    "    loader = YoutubeLoader(video_id=video_id)\n",
    "    documents.append(loader.load_and_split(text_splitter=text_splitter)[0])"
   ]
  },
  {
   "cell_type": "code",
   "execution_count": 19,
   "id": "6a59ea58-9acb-47c2-9585-a7becf25f485",
   "metadata": {},
   "outputs": [],
   "source": [
    "# Contruct vector\n",
    "neo4j_vector = Neo4jVector.from_documents(\n",
    "    embedding=OpenAIEmbeddings(),\n",
    "    documents=documents,\n",
    "    url=os.environ['NEO4J_URI'],\n",
    "    username=os.environ['NEO4J_USERNAME'],\n",
    "    password=os.environ['NEO4J_PASSWORD']\n",
    ")"
   ]
  },
  {
   "cell_type": "code",
   "execution_count": 21,
   "id": "e4ab8d1d-063c-4485-b1ad-dbeae0aa8660",
   "metadata": {},
   "outputs": [],
   "source": [
    "# Prepare Q&A object\n",
    "chat = ChatOpenAI()\n",
    "chat_mem_history = ChatMessageHistory(sesion_id=\"1\")\n",
    "mem = ConversationBufferMemory(memory_key=\"chat_history\", chat_memory=chat_mem_history, return_messages=True)\n",
    "q = ConversationalRetrievalChain.from_llm(\n",
    "    llm=chat,\n",
    "    memory=mem,\n",
    "    retriever=neo4j_vector.as_retriever()\n",
    ")"
   ]
  },
  {
   "cell_type": "code",
   "execution_count": 23,
   "id": "bb73bdf3-15d2-4fa0-9dff-8b85ba508cf1",
   "metadata": {},
   "outputs": [],
   "source": [
    "response = q({'question': 'Hi'})\n",
    "response.get('answer')"
   ]
  },
  {
   "cell_type": "code",
   "execution_count": 8,
   "id": "d2d7aba5-2026-4e9d-9878-9d62c0425c05",
   "metadata": {},
   "outputs": [
    {
     "name": "stdout",
     "output_type": "stream",
     "text": [
      "in 2023 in Pro Road cycling there were team yimu visma and the rest this is going to change the team who won for the first time in history all three grand Tours in the same year and with different Riders is gone it is official that by the end of 2023 team yumbo visma will cease to exist what is the future for yunas vingard VA vanard seus or Mariana F like the fix the team will be born again under a new [Music] name hello I'm Gabriel welcome to cycling after 14 following a historic season containing an unprecedented three grand tour victories team yumbo visma will continue as team visma leads a bike after 5 years as second title sponsor visma will be the team's first title sponsor from the 2024 season so who is visma and who is Lisa bike visma was founded in Norway in 1996 since then they have grown into Europe's number one Cloud software company operating throughout Europe and Latin America visma offers software that simplify and digitize processes for businesses and organizations in the private and public sector if you find this content useful and you want to boost my morale Please Subscribe like and share thank you in addition to financial support visma will continue to provide a team with software to improve both sporting and business performance as a technology company visma is especially proud of how their AI solution has nearly doubled the team's accuracy in predicting nutritional needs for Riders helping them to boost endurance further says the CEO of the company Lisa bike is AED by Dutch family multinational pawn and Volkswagen financial services and join the team as a subsponsor on the 1st of January 2023 Lisa bike's mission is to inspire people to go biking they want to encourage people to live healthier and more sustainable lives and See Team visma Lisa bike as a way to contribute to this they are already successful in the Netherlands Belgium Germany and Austria and are expanding to other countries in Europe and in the USA they believe in Innovation developing talent and doing things a little better every day on Thursday the 21st of December 2023 team visma Lisa bike will present its Riders main goals and new corporate identity to the media and partners during an event held in Amsterdam I'm looking forward to seeing what logo they'll be using and what is the color scheme for their kid what do you think that is going to happen with the new team visma Lisa bike are they going to dominate the 2024 cycling season what Riders do you think are going to leave or arrive at the new team let's discuss this in the comment section thank you for watching and till the next time let's spin the wheels\n"
     ]
    }
   ],
   "source": [
    "query = \"\"\n",
    "results = neo4j_vector.similarity_search(query, k=1)\n",
    "print(results[0].page_content)"
   ]
  }
 ],
 "metadata": {
  "kernelspec": {
   "display_name": "Python 3 (ipykernel)",
   "language": "python",
   "name": "python3"
  },
  "language_info": {
   "codemirror_mode": {
    "name": "ipython",
    "version": 3
   },
   "file_extension": ".py",
   "mimetype": "text/x-python",
   "name": "python",
   "nbconvert_exporter": "python",
   "pygments_lexer": "ipython3",
   "version": "3.11.5"
  }
 },
 "nbformat": 4,
 "nbformat_minor": 5
}
